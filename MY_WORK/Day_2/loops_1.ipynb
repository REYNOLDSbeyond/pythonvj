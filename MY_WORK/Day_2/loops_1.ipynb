{
 "cells": [
  {
   "cell_type": "code",
   "execution_count": 1,
   "metadata": {},
   "outputs": [
    {
     "name": "stdout",
     "output_type": "stream",
     "text": [
      "ASUS\n",
      "DELL\n",
      "HP\n",
      "COMPAQ\n",
      "LENOVA\n"
     ]
    }
   ],
   "source": [
    "## Iterating over a list\n",
    "Models = [\"ASUS\", \"DELL\", \"HP\",\"COMPAQ\",\"LENOVA\"]\n",
    "for Models in Models:\n",
    "    print(Models)"
   ]
  },
  {
   "cell_type": "code",
   "execution_count": 2,
   "metadata": {},
   "outputs": [
    {
     "name": "stdout",
     "output_type": "stream",
     "text": [
      "0\n",
      "1\n",
      "2\n",
      "3\n",
      "4\n",
      "5\n",
      "6\n",
      "7\n",
      "8\n"
     ]
    }
   ],
   "source": [
    "# #Example 2: Iterating over a range\n",
    "for MOBILENUMBER in range(0, 9):  # range from 1 to 8\n",
    "    print(MOBILENUMBER)\n"
   ]
  },
  {
   "cell_type": "code",
   "execution_count": 4,
   "metadata": {},
   "outputs": [
    {
     "name": "stdout",
     "output_type": "stream",
     "text": [
      "0\n",
      "1\n",
      "2\n",
      "3\n",
      "4\n"
     ]
    }
   ],
   "source": [
    "# Example: Exit loop when reaching a specific number\n",
    "for MOBILENUMBER in range(0, 9):\n",
    "    if MOBILENUMBER == 5:\n",
    "        break\n",
    "    print(MOBILENUMBER)"
   ]
  },
  {
   "cell_type": "code",
   "execution_count": 5,
   "metadata": {},
   "outputs": [
    {
     "name": "stdout",
     "output_type": "stream",
     "text": [
      "1\n",
      "3\n",
      "5\n"
     ]
    }
   ],
   "source": [
    "# Example: Placeholder in an if statement\n",
    "for num in range(1, 6):\n",
    "    if num % 2 == 0:\n",
    "        pass  # Do nothing for even numbers\n",
    "    else:\n",
    "        print(num)"
   ]
  },
  {
   "cell_type": "code",
   "execution_count": null,
   "metadata": {},
   "outputs": [],
   "source": [
    "# Example: Placeholder in an if statement\n",
    "for num in range(12, 8):\n",
    "    if num % 2 == 0:\n",
    "        pass  # Do nothing for even numbers\n",
    "    else:\n",
    "        print(num)"
   ]
  },
  {
   "cell_type": "markdown",
   "metadata": {},
   "source": []
  }
 ],
 "metadata": {
  "kernelspec": {
   "display_name": "ret",
   "language": "python",
   "name": "python3"
  },
  "language_info": {
   "codemirror_mode": {
    "name": "ipython",
    "version": 3
   },
   "file_extension": ".py",
   "mimetype": "text/x-python",
   "name": "python",
   "nbconvert_exporter": "python",
   "pygments_lexer": "ipython3",
   "version": "3.12.0"
  }
 },
 "nbformat": 4,
 "nbformat_minor": 2
}
