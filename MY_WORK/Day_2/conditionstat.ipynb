{
 "cells": [
  {
   "cell_type": "code",
   "execution_count": 2,
   "metadata": {},
   "outputs": [
    {
     "name": "stdout",
     "output_type": "stream",
     "text": [
      "you are bike is select for sale teams\n"
     ]
    }
   ],
   "source": [
    "mileage = 90\n",
    "if mileage >= 90:\n",
    "    print(\"you are bike is select for sale teams\")\n"
   ]
  },
  {
   "cell_type": "code",
   "execution_count": 6,
   "metadata": {},
   "outputs": [
    {
     "name": "stdout",
     "output_type": "stream",
     "text": [
      "you bike is not eligible\n"
     ]
    }
   ],
   "source": [
    "mileage = 80\n",
    "if mileage >= 90:\n",
    "    print(\"you are bike is select for sale teams\")\n",
    "else:\n",
    "    print(\"you bike is not eligible\")"
   ]
  },
  {
   "cell_type": "code",
   "execution_count": 9,
   "metadata": {},
   "outputs": [
    {
     "name": "stdout",
     "output_type": "stream",
     "text": [
      "May be considered\n"
     ]
    }
   ],
   "source": [
    "mileage = 87\n",
    "if mileage >= 85:\n",
    "    print(\"May be considered\")\n",
    "\n",
    "elif mileage ==90:\n",
    "    print(\"selected\")\n",
    "\n",
    "else:\n",
    "    print(\"you bike is not eligible\")"
   ]
  },
  {
   "cell_type": "code",
   "execution_count": 16,
   "metadata": {},
   "outputs": [
    {
     "name": "stdout",
     "output_type": "stream",
     "text": [
      "available\n"
     ]
    }
   ],
   "source": [
    "a = [' hungry', 'rome', 'houston']\n",
    "if \"rome\" in a:\n",
    "    print(\"available\")\n",
    "    "
   ]
  },
  {
   "cell_type": "code",
   "execution_count": 18,
   "metadata": {},
   "outputs": [
    {
     "name": "stdout",
     "output_type": "stream",
     "text": [
      " A is hungry\n",
      "give hime food\n"
     ]
    }
   ],
   "source": [
    "a = ['angry', 'food']\n",
    "\n",
    "if \"angry\" in a:\n",
    "    print(\" A is angry\")\n",
    "    if \"food\" in a:\n",
    "        print(\"give him food\")\n",
    "    else:\n",
    "        print(\"Ask him what he needs to be done to normal\")\n",
    "else :\n",
    "    print(\"A is not angry\") \n"
   ]
  },
  {
   "cell_type": "code",
   "execution_count": null,
   "metadata": {},
   "outputs": [],
   "source": [
    "mileage = 90\n",
    "\n",
    "if mileage >= 80\n",
    "   print(\"Best Bike\")\n",
    "elif mileage >= 70:\n",
    "   print(\"Medium Bike\")\n",
    "elif mileage >= 60:\n",
    "   print(\"low bike\")\n",
    "   else\n",
    "   print(\"not good bike\")"
   ]
  }
 ],
 "metadata": {
  "kernelspec": {
   "display_name": "ret",
   "language": "python",
   "name": "python3"
  },
  "language_info": {
   "codemirror_mode": {
    "name": "ipython",
    "version": 3
   },
   "file_extension": ".py",
   "mimetype": "text/x-python",
   "name": "python",
   "nbconvert_exporter": "python",
   "pygments_lexer": "ipython3",
   "version": "3.12.0"
  }
 },
 "nbformat": 4,
 "nbformat_minor": 2
}
